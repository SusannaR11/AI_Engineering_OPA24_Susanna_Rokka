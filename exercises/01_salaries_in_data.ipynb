{
 "cells": [
  {
   "cell_type": "markdown",
   "metadata": {},
   "source": [
    "## 0.1 Salaries in Data Field"
   ]
  },
  {
   "cell_type": "code",
   "execution_count": 3,
   "metadata": {},
   "outputs": [
    {
     "data": {
      "text/html": [
       "<div>\n",
       "<style scoped>\n",
       "    .dataframe tbody tr th:only-of-type {\n",
       "        vertical-align: middle;\n",
       "    }\n",
       "\n",
       "    .dataframe tbody tr th {\n",
       "        vertical-align: top;\n",
       "    }\n",
       "\n",
       "    .dataframe thead th {\n",
       "        text-align: right;\n",
       "    }\n",
       "</style>\n",
       "<table border=\"1\" class=\"dataframe\">\n",
       "  <thead>\n",
       "    <tr style=\"text-align: right;\">\n",
       "      <th></th>\n",
       "      <th>work_year</th>\n",
       "      <th>experience_level</th>\n",
       "      <th>employment_type</th>\n",
       "      <th>job_title</th>\n",
       "      <th>salary</th>\n",
       "      <th>salary_currency</th>\n",
       "      <th>salary_in_usd</th>\n",
       "      <th>employee_residence</th>\n",
       "      <th>remote_ratio</th>\n",
       "      <th>company_location</th>\n",
       "      <th>company_size</th>\n",
       "    </tr>\n",
       "  </thead>\n",
       "  <tbody>\n",
       "    <tr>\n",
       "      <th>0</th>\n",
       "      <td>2025</td>\n",
       "      <td>EX</td>\n",
       "      <td>FT</td>\n",
       "      <td>Head of Data</td>\n",
       "      <td>348516</td>\n",
       "      <td>USD</td>\n",
       "      <td>348516</td>\n",
       "      <td>US</td>\n",
       "      <td>0</td>\n",
       "      <td>US</td>\n",
       "      <td>M</td>\n",
       "    </tr>\n",
       "    <tr>\n",
       "      <th>1</th>\n",
       "      <td>2025</td>\n",
       "      <td>EX</td>\n",
       "      <td>FT</td>\n",
       "      <td>Head of Data</td>\n",
       "      <td>232344</td>\n",
       "      <td>USD</td>\n",
       "      <td>232344</td>\n",
       "      <td>US</td>\n",
       "      <td>0</td>\n",
       "      <td>US</td>\n",
       "      <td>M</td>\n",
       "    </tr>\n",
       "    <tr>\n",
       "      <th>2</th>\n",
       "      <td>2025</td>\n",
       "      <td>SE</td>\n",
       "      <td>FT</td>\n",
       "      <td>Data Scientist</td>\n",
       "      <td>145400</td>\n",
       "      <td>USD</td>\n",
       "      <td>145400</td>\n",
       "      <td>US</td>\n",
       "      <td>0</td>\n",
       "      <td>US</td>\n",
       "      <td>M</td>\n",
       "    </tr>\n",
       "    <tr>\n",
       "      <th>3</th>\n",
       "      <td>2025</td>\n",
       "      <td>SE</td>\n",
       "      <td>FT</td>\n",
       "      <td>Data Scientist</td>\n",
       "      <td>81600</td>\n",
       "      <td>USD</td>\n",
       "      <td>81600</td>\n",
       "      <td>US</td>\n",
       "      <td>0</td>\n",
       "      <td>US</td>\n",
       "      <td>M</td>\n",
       "    </tr>\n",
       "    <tr>\n",
       "      <th>4</th>\n",
       "      <td>2025</td>\n",
       "      <td>MI</td>\n",
       "      <td>FT</td>\n",
       "      <td>Engineer</td>\n",
       "      <td>160000</td>\n",
       "      <td>USD</td>\n",
       "      <td>160000</td>\n",
       "      <td>US</td>\n",
       "      <td>100</td>\n",
       "      <td>US</td>\n",
       "      <td>M</td>\n",
       "    </tr>\n",
       "  </tbody>\n",
       "</table>\n",
       "</div>"
      ],
      "text/plain": [
       "   work_year experience_level employment_type       job_title  salary  \\\n",
       "0       2025               EX              FT    Head of Data  348516   \n",
       "1       2025               EX              FT    Head of Data  232344   \n",
       "2       2025               SE              FT  Data Scientist  145400   \n",
       "3       2025               SE              FT  Data Scientist   81600   \n",
       "4       2025               MI              FT        Engineer  160000   \n",
       "\n",
       "  salary_currency  salary_in_usd employee_residence  remote_ratio  \\\n",
       "0             USD         348516                 US             0   \n",
       "1             USD         232344                 US             0   \n",
       "2             USD         145400                 US             0   \n",
       "3             USD          81600                 US             0   \n",
       "4             USD         160000                 US           100   \n",
       "\n",
       "  company_location company_size  \n",
       "0               US            M  \n",
       "1               US            M  \n",
       "2               US            M  \n",
       "3               US            M  \n",
       "4               US            M  "
      ]
     },
     "execution_count": 3,
     "metadata": {},
     "output_type": "execute_result"
    }
   ],
   "source": [
    "import pandas as pd\n",
    "import numpy as np\n",
    "import matplotlib as plt\n",
    "\n",
    "df = pd.read_csv(\"../data/salaries.csv\")\n",
    "df.head()"
   ]
  },
  {
   "cell_type": "code",
   "execution_count": 5,
   "metadata": {},
   "outputs": [
    {
     "name": "stdout",
     "output_type": "stream",
     "text": [
      "<class 'pandas.core.frame.DataFrame'>\n",
      "RangeIndex: 151445 entries, 0 to 151444\n",
      "Data columns (total 11 columns):\n",
      " #   Column              Non-Null Count   Dtype \n",
      "---  ------              --------------   ----- \n",
      " 0   work_year           151445 non-null  int64 \n",
      " 1   experience_level    151445 non-null  object\n",
      " 2   employment_type     151445 non-null  object\n",
      " 3   job_title           151445 non-null  object\n",
      " 4   salary              151445 non-null  int64 \n",
      " 5   salary_currency     151445 non-null  object\n",
      " 6   salary_in_usd       151445 non-null  int64 \n",
      " 7   employee_residence  151445 non-null  object\n",
      " 8   remote_ratio        151445 non-null  int64 \n",
      " 9   company_location    151445 non-null  object\n",
      " 10  company_size        151445 non-null  object\n",
      "dtypes: int64(4), object(7)\n",
      "memory usage: 12.7+ MB\n"
     ]
    }
   ],
   "source": [
    "df.info()"
   ]
  },
  {
   "cell_type": "code",
   "execution_count": 8,
   "metadata": {},
   "outputs": [
    {
     "data": {
      "text/plain": [
       "Index(['work_year', 'experience_level', 'employment_type', 'job_title',\n",
       "       'salary', 'salary_currency', 'salary_in_usd', 'employee_residence',\n",
       "       'remote_ratio', 'company_location', 'company_size'],\n",
       "      dtype='object')"
      ]
     },
     "execution_count": 8,
     "metadata": {},
     "output_type": "execute_result"
    }
   ],
   "source": [
    "df.columns"
   ]
  },
  {
   "cell_type": "markdown",
   "metadata": {},
   "source": [
    "### b, Plot the Salary (USD) Distribution Across Job Titles"
   ]
  },
  {
   "cell_type": "code",
   "execution_count": 45,
   "metadata": {},
   "outputs": [
    {
     "data": {
      "text/plain": [
       "job_title\n",
       "AI Architect                    210091.283737\n",
       "AI Content Writer                40506.666667\n",
       "AI Data Engineer                 94444.000000\n",
       "AI Data Scientist                87253.666667\n",
       "AI Developer                    153505.454955\n",
       "                                    ...      \n",
       "Technical Support Specialist     75500.000000\n",
       "Technical Writer                171947.027027\n",
       "Technology Integrator            98650.000000\n",
       "Trainee                          52927.500000\n",
       "Web Developer                   121562.111111\n",
       "Name: salary_in_usd, Length: 422, dtype: float64"
      ]
     },
     "execution_count": 45,
     "metadata": {},
     "output_type": "execute_result"
    }
   ],
   "source": [
    "df.groupby(\"job_title\")[\"salary_in_usd\"].mean()\n",
    "\n",
    "# analyzing variable salary_usd, group by job title and divide for median salary/group"
   ]
  },
  {
   "cell_type": "code",
   "execution_count": 26,
   "metadata": {},
   "outputs": [
    {
     "data": {
      "text/html": [
       "<div>\n",
       "<style scoped>\n",
       "    .dataframe tbody tr th:only-of-type {\n",
       "        vertical-align: middle;\n",
       "    }\n",
       "\n",
       "    .dataframe tbody tr th {\n",
       "        vertical-align: top;\n",
       "    }\n",
       "\n",
       "    .dataframe thead th {\n",
       "        text-align: right;\n",
       "    }\n",
       "</style>\n",
       "<table border=\"1\" class=\"dataframe\">\n",
       "  <thead>\n",
       "    <tr style=\"text-align: right;\">\n",
       "      <th></th>\n",
       "      <th>job_title</th>\n",
       "      <th>salary_in_usd</th>\n",
       "      <th>Salary_in_USD_1</th>\n",
       "    </tr>\n",
       "  </thead>\n",
       "  <tbody>\n",
       "    <tr>\n",
       "      <th>0</th>\n",
       "      <td>Staff Data Analyst</td>\n",
       "      <td>15000</td>\n",
       "      <td>15000.0</td>\n",
       "    </tr>\n",
       "    <tr>\n",
       "      <th>1</th>\n",
       "      <td>Machine Learning Developer</td>\n",
       "      <td>15000</td>\n",
       "      <td>15000.0</td>\n",
       "    </tr>\n",
       "    <tr>\n",
       "      <th>2</th>\n",
       "      <td>Business Intelligence Developer</td>\n",
       "      <td>15000</td>\n",
       "      <td>15000.0</td>\n",
       "    </tr>\n",
       "    <tr>\n",
       "      <th>3</th>\n",
       "      <td>Data Analyst</td>\n",
       "      <td>15000</td>\n",
       "      <td>15000.0</td>\n",
       "    </tr>\n",
       "    <tr>\n",
       "      <th>4</th>\n",
       "      <td>BI Analyst</td>\n",
       "      <td>15107</td>\n",
       "      <td>15107.0</td>\n",
       "    </tr>\n",
       "    <tr>\n",
       "      <th>...</th>\n",
       "      <td>...</td>\n",
       "      <td>...</td>\n",
       "      <td>...</td>\n",
       "    </tr>\n",
       "    <tr>\n",
       "      <th>43344</th>\n",
       "      <td>Software Engineer</td>\n",
       "      <td>180000</td>\n",
       "      <td>59220000.0</td>\n",
       "    </tr>\n",
       "    <tr>\n",
       "      <th>43345</th>\n",
       "      <td>Software Engineer</td>\n",
       "      <td>250000</td>\n",
       "      <td>60250000.0</td>\n",
       "    </tr>\n",
       "    <tr>\n",
       "      <th>43346</th>\n",
       "      <td>Data Scientist</td>\n",
       "      <td>110000</td>\n",
       "      <td>63910000.0</td>\n",
       "    </tr>\n",
       "    <tr>\n",
       "      <th>43347</th>\n",
       "      <td>Software Engineer</td>\n",
       "      <td>200000</td>\n",
       "      <td>71200000.0</td>\n",
       "    </tr>\n",
       "    <tr>\n",
       "      <th>43348</th>\n",
       "      <td>Data Scientist</td>\n",
       "      <td>160000</td>\n",
       "      <td>94880000.0</td>\n",
       "    </tr>\n",
       "  </tbody>\n",
       "</table>\n",
       "<p>43349 rows × 3 columns</p>\n",
       "</div>"
      ],
      "text/plain": [
       "                             job_title  salary_in_usd  Salary_in_USD_1\n",
       "0                   Staff Data Analyst          15000          15000.0\n",
       "1           Machine Learning Developer          15000          15000.0\n",
       "2      Business Intelligence Developer          15000          15000.0\n",
       "3                         Data Analyst          15000          15000.0\n",
       "4                           BI Analyst          15107          15107.0\n",
       "...                                ...            ...              ...\n",
       "43344                Software Engineer         180000       59220000.0\n",
       "43345                Software Engineer         250000       60250000.0\n",
       "43346                   Data Scientist         110000       63910000.0\n",
       "43347                Software Engineer         200000       71200000.0\n",
       "43348                   Data Scientist         160000       94880000.0\n",
       "\n",
       "[43349 rows x 3 columns]"
      ]
     },
     "execution_count": 26,
     "metadata": {},
     "output_type": "execute_result"
    }
   ],
   "source": [
    "import duckdb\n",
    "\n",
    "df_salary_distribution = duckdb.query(\n",
    "    \"\"\"\n",
    "    SELECT\n",
    "        job_title,\n",
    "        salary_in_usd,\n",
    "        SUM(salary_in_usd) as Salary_in_USD,\n",
    "    FROM df\n",
    "    GROUP BY\n",
    "        salary_in_usd,\n",
    "        job_title\n",
    "    ORDER BY\n",
    "        salary_in_usd ASC\n",
    "    \"\"\"\n",
    ").df()\n",
    "\n",
    "df_salary_distribution"
   ]
  },
  {
   "cell_type": "markdown",
   "metadata": {},
   "source": [
    "### Using histogram to show salary spread"
   ]
  },
  {
   "cell_type": "code",
   "execution_count": 32,
   "metadata": {},
   "outputs": [
    {
     "data": {
      "image/png": "[encoded data removed]",
      "text/plain": [
       "<Figure size 1000x600 with 1 Axes>"
      ]
     },
     "metadata": {},
     "output_type": "display_data"
    }
   ],
   "source": [
    "df[\"salary_in_usd\"].hist(bins=30, figsize=(10,6))\n",
    "plt.xlabel(\"Salary (USD)\")\n",
    "plt.ylabel(\"Count\")\n",
    "plt.title(\"Salary Distribution in USD\")\n",
    "plt.show()"
   ]
  },
  {
   "cell_type": "code",
   "execution_count": 40,
   "metadata": {},
   "outputs": [
    {
     "data": {
      "text/plain": [
       "<Axes: xlabel='experience_level', ylabel='salary_in_usd'>"
      ]
     },
     "execution_count": 40,
     "metadata": {},
     "output_type": "execute_result"
    },
    {
     "data": {
      "image/png": "[encoded data removed]",
      "text/plain": [
       "<Figure size 640x480 with 1 Axes>"
      ]
     },
     "metadata": {},
     "output_type": "display_data"
    }
   ],
   "source": [
    "import seaborn as sns\n",
    "sns.boxplot(x=\"experience_level\", y=\"salary_in_usd\", data=df)"
   ]
  },
  {
   "cell_type": "markdown",
   "metadata": {},
   "source": [
    "#### c, How Many Job Postings for each Title? Take 10th most common Job title and plot bar chart of number of postings"
   ]
  },
  {
   "cell_type": "code",
   "execution_count": 63,
   "metadata": {},
   "outputs": [
    {
     "data": {
      "text/plain": [
       "job_title\n",
       "Data Scientist               18751\n",
       "Software Engineer            16948\n",
       "Data Engineer                16352\n",
       "Data Analyst                 13779\n",
       "Engineer                     11004\n",
       "Machine Learning Engineer     8887\n",
       "Manager                       7811\n",
       "Analyst                       5396\n",
       "Research Scientist            3460\n",
       "Product Manager               2576\n",
       "Applied Scientist             2381\n",
       "Associate                     2379\n",
       "Data Architect                2216\n",
       "Analytics Engineer            2139\n",
       "AI Engineer                   2013\n",
       "dtype: int64"
      ]
     },
     "execution_count": 63,
     "metadata": {},
     "output_type": "execute_result"
    }
   ],
   "source": [
    "df.groupby(\"job_title\").size().sort_values(ascending=False).head(15)"
   ]
  },
  {
   "cell_type": "code",
   "execution_count": 64,
   "metadata": {},
   "outputs": [
    {
     "data": {
      "text/plain": [
       "job_title\n",
       "Data Scientist               18751\n",
       "Software Engineer            16948\n",
       "Data Engineer                16352\n",
       "Data Analyst                 13779\n",
       "Engineer                     11004\n",
       "Machine Learning Engineer     8887\n",
       "Manager                       7811\n",
       "Analyst                       5396\n",
       "Research Scientist            3460\n",
       "Product Manager               2576\n",
       "Name: count, dtype: int64"
      ]
     },
     "execution_count": 64,
     "metadata": {},
     "output_type": "execute_result"
    }
   ],
   "source": [
    "df[\"job_title\"].value_counts().head(10)"
   ]
  },
  {
   "cell_type": "code",
   "execution_count": 74,
   "metadata": {},
   "outputs": [
    {
     "data": {
      "text/html": [
       "<div>\n",
       "<style scoped>\n",
       "    .dataframe tbody tr th:only-of-type {\n",
       "        vertical-align: middle;\n",
       "    }\n",
       "\n",
       "    .dataframe tbody tr th {\n",
       "        vertical-align: top;\n",
       "    }\n",
       "\n",
       "    .dataframe thead th {\n",
       "        text-align: right;\n",
       "    }\n",
       "</style>\n",
       "<table border=\"1\" class=\"dataframe\">\n",
       "  <thead>\n",
       "    <tr style=\"text-align: right;\">\n",
       "      <th></th>\n",
       "      <th>work_year</th>\n",
       "      <th>experience_level</th>\n",
       "      <th>employment_type</th>\n",
       "      <th>job_title</th>\n",
       "      <th>salary</th>\n",
       "      <th>salary_currency</th>\n",
       "      <th>salary_in_usd</th>\n",
       "      <th>employee_residence</th>\n",
       "      <th>remote_ratio</th>\n",
       "      <th>company_location</th>\n",
       "      <th>company_size</th>\n",
       "    </tr>\n",
       "  </thead>\n",
       "  <tbody>\n",
       "    <tr>\n",
       "      <th>28</th>\n",
       "      <td>2025</td>\n",
       "      <td>SE</td>\n",
       "      <td>FT</td>\n",
       "      <td>Product Manager</td>\n",
       "      <td>207000</td>\n",
       "      <td>USD</td>\n",
       "      <td>207000</td>\n",
       "      <td>US</td>\n",
       "      <td>100</td>\n",
       "      <td>US</td>\n",
       "      <td>M</td>\n",
       "    </tr>\n",
       "    <tr>\n",
       "      <th>29</th>\n",
       "      <td>2025</td>\n",
       "      <td>SE</td>\n",
       "      <td>FT</td>\n",
       "      <td>Product Manager</td>\n",
       "      <td>144200</td>\n",
       "      <td>USD</td>\n",
       "      <td>144200</td>\n",
       "      <td>US</td>\n",
       "      <td>100</td>\n",
       "      <td>US</td>\n",
       "      <td>M</td>\n",
       "    </tr>\n",
       "    <tr>\n",
       "      <th>48</th>\n",
       "      <td>2025</td>\n",
       "      <td>SE</td>\n",
       "      <td>FT</td>\n",
       "      <td>Product Manager</td>\n",
       "      <td>140000</td>\n",
       "      <td>USD</td>\n",
       "      <td>140000</td>\n",
       "      <td>US</td>\n",
       "      <td>0</td>\n",
       "      <td>US</td>\n",
       "      <td>M</td>\n",
       "    </tr>\n",
       "    <tr>\n",
       "      <th>49</th>\n",
       "      <td>2025</td>\n",
       "      <td>SE</td>\n",
       "      <td>FT</td>\n",
       "      <td>Product Manager</td>\n",
       "      <td>110000</td>\n",
       "      <td>USD</td>\n",
       "      <td>110000</td>\n",
       "      <td>US</td>\n",
       "      <td>0</td>\n",
       "      <td>US</td>\n",
       "      <td>M</td>\n",
       "    </tr>\n",
       "    <tr>\n",
       "      <th>392</th>\n",
       "      <td>2025</td>\n",
       "      <td>SE</td>\n",
       "      <td>FT</td>\n",
       "      <td>Product Manager</td>\n",
       "      <td>205000</td>\n",
       "      <td>USD</td>\n",
       "      <td>205000</td>\n",
       "      <td>US</td>\n",
       "      <td>0</td>\n",
       "      <td>US</td>\n",
       "      <td>M</td>\n",
       "    </tr>\n",
       "    <tr>\n",
       "      <th>...</th>\n",
       "      <td>...</td>\n",
       "      <td>...</td>\n",
       "      <td>...</td>\n",
       "      <td>...</td>\n",
       "      <td>...</td>\n",
       "      <td>...</td>\n",
       "      <td>...</td>\n",
       "      <td>...</td>\n",
       "      <td>...</td>\n",
       "      <td>...</td>\n",
       "      <td>...</td>\n",
       "    </tr>\n",
       "    <tr>\n",
       "      <th>121165</th>\n",
       "      <td>2024</td>\n",
       "      <td>MI</td>\n",
       "      <td>FT</td>\n",
       "      <td>Product Manager</td>\n",
       "      <td>140000</td>\n",
       "      <td>USD</td>\n",
       "      <td>140000</td>\n",
       "      <td>US</td>\n",
       "      <td>0</td>\n",
       "      <td>US</td>\n",
       "      <td>M</td>\n",
       "    </tr>\n",
       "    <tr>\n",
       "      <th>121258</th>\n",
       "      <td>2024</td>\n",
       "      <td>SE</td>\n",
       "      <td>FT</td>\n",
       "      <td>Product Manager</td>\n",
       "      <td>230400</td>\n",
       "      <td>USD</td>\n",
       "      <td>230400</td>\n",
       "      <td>US</td>\n",
       "      <td>0</td>\n",
       "      <td>US</td>\n",
       "      <td>M</td>\n",
       "    </tr>\n",
       "    <tr>\n",
       "      <th>121259</th>\n",
       "      <td>2024</td>\n",
       "      <td>SE</td>\n",
       "      <td>FT</td>\n",
       "      <td>Product Manager</td>\n",
       "      <td>192000</td>\n",
       "      <td>USD</td>\n",
       "      <td>192000</td>\n",
       "      <td>US</td>\n",
       "      <td>0</td>\n",
       "      <td>US</td>\n",
       "      <td>M</td>\n",
       "    </tr>\n",
       "    <tr>\n",
       "      <th>121266</th>\n",
       "      <td>2024</td>\n",
       "      <td>SE</td>\n",
       "      <td>FT</td>\n",
       "      <td>Product Manager</td>\n",
       "      <td>260586</td>\n",
       "      <td>USD</td>\n",
       "      <td>260586</td>\n",
       "      <td>US</td>\n",
       "      <td>0</td>\n",
       "      <td>US</td>\n",
       "      <td>M</td>\n",
       "    </tr>\n",
       "    <tr>\n",
       "      <th>121267</th>\n",
       "      <td>2024</td>\n",
       "      <td>SE</td>\n",
       "      <td>FT</td>\n",
       "      <td>Product Manager</td>\n",
       "      <td>177672</td>\n",
       "      <td>USD</td>\n",
       "      <td>177672</td>\n",
       "      <td>US</td>\n",
       "      <td>0</td>\n",
       "      <td>US</td>\n",
       "      <td>M</td>\n",
       "    </tr>\n",
       "  </tbody>\n",
       "</table>\n",
       "<p>2576 rows × 11 columns</p>\n",
       "</div>"
      ],
      "text/plain": [
       "        work_year experience_level employment_type        job_title  salary  \\\n",
       "28           2025               SE              FT  Product Manager  207000   \n",
       "29           2025               SE              FT  Product Manager  144200   \n",
       "48           2025               SE              FT  Product Manager  140000   \n",
       "49           2025               SE              FT  Product Manager  110000   \n",
       "392          2025               SE              FT  Product Manager  205000   \n",
       "...           ...              ...             ...              ...     ...   \n",
       "121165       2024               MI              FT  Product Manager  140000   \n",
       "121258       2024               SE              FT  Product Manager  230400   \n",
       "121259       2024               SE              FT  Product Manager  192000   \n",
       "121266       2024               SE              FT  Product Manager  260586   \n",
       "121267       2024               SE              FT  Product Manager  177672   \n",
       "\n",
       "       salary_currency  salary_in_usd employee_residence  remote_ratio  \\\n",
       "28                 USD         207000                 US           100   \n",
       "29                 USD         144200                 US           100   \n",
       "48                 USD         140000                 US             0   \n",
       "49                 USD         110000                 US             0   \n",
       "392                USD         205000                 US             0   \n",
       "...                ...            ...                ...           ...   \n",
       "121165             USD         140000                 US             0   \n",
       "121258             USD         230400                 US             0   \n",
       "121259             USD         192000                 US             0   \n",
       "121266             USD         260586                 US             0   \n",
       "121267             USD         177672                 US             0   \n",
       "\n",
       "       company_location company_size  \n",
       "28                   US            M  \n",
       "29                   US            M  \n",
       "48                   US            M  \n",
       "49                   US            M  \n",
       "392                  US            M  \n",
       "...                 ...          ...  \n",
       "121165               US            M  \n",
       "121258               US            M  \n",
       "121259               US            M  \n",
       "121266               US            M  \n",
       "121267               US            M  \n",
       "\n",
       "[2576 rows x 11 columns]"
      ]
     },
     "execution_count": 74,
     "metadata": {},
     "output_type": "execute_result"
    }
   ],
   "source": [
    "# Bar chart for 'Product Manager' - number of listings according to salary\n",
    "pm_df = df[df[\"job_title\"] == \"Product Manager\"]\n",
    "pm_df"
   ]
  },
  {
   "cell_type": "code",
   "execution_count": 94,
   "metadata": {},
   "outputs": [
    {
     "data": {
      "text/plain": [
       "<bound method Series.sort_values of 28        207000\n",
       "29        144200\n",
       "48        140000\n",
       "49        110000\n",
       "392       205000\n",
       "           ...  \n",
       "121165    140000\n",
       "121258    230400\n",
       "121259    192000\n",
       "121266    260586\n",
       "121267    177672\n",
       "Name: salary_in_usd, Length: 2576, dtype: int64>"
      ]
     },
     "execution_count": 94,
     "metadata": {},
     "output_type": "execute_result"
    }
   ],
   "source": [
    "pm_df[\"salary_in_usd\"].sort_values #show the ranges of salaries and amount of postings in each"
   ]
  },
  {
   "cell_type": "code",
   "execution_count": 101,
   "metadata": {},
   "outputs": [
    {
     "name": "stderr",
     "output_type": "stream",
     "text": [
      "/var/folders/sl/9m1cmg1d6y58tgz5_s_fdgsc0000gn/T/ipykernel_18291/3878279699.py:6: SettingWithCopyWarning: \n",
      "A value is trying to be set on a copy of a slice from a DataFrame.\n",
      "Try using .loc[row_indexer,col_indexer] = value instead\n",
      "\n",
      "See the caveats in the documentation: https://pandas.pydata.org/pandas-docs/stable/user_guide/indexing.html#returning-a-view-versus-a-copy\n",
      "  pm_df[\"salary_bin\"] = pd.cut(\n"
     ]
    },
    {
     "data": {
      "text/plain": [
       "Text(0.5, 1.0, 'Distribution of Product Manager Salaries')"
      ]
     },
     "execution_count": 101,
     "metadata": {},
     "output_type": "execute_result"
    },
    {
     "data": {
      "image/png": "[encoded data removed]",
      "text/plain": [
       "<Figure size 1000x600 with 1 Axes>"
      ]
     },
     "metadata": {},
     "output_type": "display_data"
    }
   ],
   "source": [
    "# now to group salaries into ranges (bins) in histogram\n",
    "bins=list(np.arange(0, 450_000, 50_000)) + [1_000_000]\n",
    "\n",
    "#create label for outliers +450K\n",
    "labels= [f\"${b//1000}K-${(b+50_000)//1000}K\" for b in bins[:-2]] + [\"$450K+\"]\n",
    "pm_df[\"salary_bin\"] = pd.cut(\n",
    "    pm_df[\"salary_in_usd\"], \n",
    "    bins=bins,\n",
    "    labels=labels,\n",
    "    right=False,\n",
    "    include_lowest=True)\n",
    "\n",
    "# count listings per bin\n",
    "salary_counts = pm_df[\"salary_bin\"].value_counts().sort_index()\n",
    "\n",
    "#plot\n",
    "ax = salary_counts.plot(kind=\"bar\", figsize=(10,6))\n",
    "ax.set_xlabel(\"Salary Range (USD)\")\n",
    "ax.set_ylabel(\"Number of Job Postings\")\n",
    "ax.set_title(\"Distribution of Product Manager Salaries\")"
   ]
  },
  {
   "cell_type": "markdown",
   "metadata": {},
   "source": [
    "#### 01 d, Create a DF that contains the following columns: job_title, experience_level, median_salary_usd, mean_salary_usd, mean_salary_sek. Sort the dataframe by mean_salary_sek."
   ]
  },
  {
   "cell_type": "code",
   "execution_count": 104,
   "metadata": {},
   "outputs": [
    {
     "name": "stdout",
     "output_type": "stream",
     "text": [
      "<class 'pandas.core.frame.DataFrame'>\n",
      "RangeIndex: 151445 entries, 0 to 151444\n",
      "Data columns (total 11 columns):\n",
      " #   Column              Non-Null Count   Dtype \n",
      "---  ------              --------------   ----- \n",
      " 0   work_year           151445 non-null  int64 \n",
      " 1   experience_level    151445 non-null  object\n",
      " 2   employment_type     151445 non-null  object\n",
      " 3   job_title           151445 non-null  object\n",
      " 4   salary              151445 non-null  int64 \n",
      " 5   salary_currency     151445 non-null  object\n",
      " 6   salary_in_usd       151445 non-null  int64 \n",
      " 7   employee_residence  151445 non-null  object\n",
      " 8   remote_ratio        151445 non-null  int64 \n",
      " 9   company_location    151445 non-null  object\n",
      " 10  company_size        151445 non-null  object\n",
      "dtypes: int64(4), object(7)\n",
      "memory usage: 12.7+ MB\n"
     ]
    }
   ],
   "source": [
    "df.info()"
   ]
  },
  {
   "cell_type": "code",
   "execution_count": 121,
   "metadata": {},
   "outputs": [
    {
     "data": {
      "text/plain": [
       "salary_currency\n",
       "AUD        36\n",
       "BRL        23\n",
       "CAD       667\n",
       "CHF        54\n",
       "CLP         1\n",
       "CZK        12\n",
       "DKK         5\n",
       "EUR      3053\n",
       "GBP      4040\n",
       "HKD         1\n",
       "HUF         9\n",
       "ILS         3\n",
       "INR       151\n",
       "JPY        14\n",
       "MXN         6\n",
       "NOK         7\n",
       "NZD         1\n",
       "PHP        31\n",
       "PLN       104\n",
       "SEK         1\n",
       "SGD        25\n",
       "THB         2\n",
       "TRY         4\n",
       "TWD        17\n",
       "USD    143173\n",
       "ZAR         5\n",
       "Name: count, dtype: int64"
      ]
     },
     "execution_count": 121,
     "metadata": {},
     "output_type": "execute_result"
    }
   ],
   "source": [
    "df_salary_currency = df[\"salary_currency\"].value_counts().sort_index()\n",
    "df_salary_currency"
   ]
  },
  {
   "cell_type": "code",
   "execution_count": 124,
   "metadata": {},
   "outputs": [
    {
     "data": {
      "text/plain": [
       "Index(['work_year', 'experience_level', 'employment_type', 'job_title',\n",
       "       'salary', 'salary_currency', 'salary_in_usd', 'employee_residence',\n",
       "       'remote_ratio', 'company_location', 'company_size'],\n",
       "      dtype='object')"
      ]
     },
     "execution_count": 124,
     "metadata": {},
     "output_type": "execute_result"
    }
   ],
   "source": [
    "df.columns"
   ]
  },
  {
   "cell_type": "code",
   "execution_count": 131,
   "metadata": {},
   "outputs": [
    {
     "ename": "BinderException",
     "evalue": "Binder Error: WHERE clause cannot contain aggregates!",
     "output_type": "error",
     "traceback": [
      "\u001b[31m---------------------------------------------------------------------------\u001b[39m",
      "\u001b[31mBinderException\u001b[39m                           Traceback (most recent call last)",
      "\u001b[36mCell\u001b[39m\u001b[36m \u001b[39m\u001b[32mIn[131]\u001b[39m\u001b[32m, line 8\u001b[39m\n\u001b[32m      4\u001b[39m \u001b[38;5;28;01mimport\u001b[39;00m\u001b[38;5;250m \u001b[39m\u001b[34;01mduckdb\u001b[39;00m\n\u001b[32m      6\u001b[39m FX_USD_TO_SEK = \u001b[32m10.5\u001b[39m\n\u001b[32m----> \u001b[39m\u001b[32m8\u001b[39m df_salary_data_jobs = \u001b[43mduckdb\u001b[49m\u001b[43m.\u001b[49m\u001b[43mquery\u001b[49m\u001b[43m(\u001b[49m\n\u001b[32m      9\u001b[39m \u001b[43m    \u001b[49m\u001b[33;43mf\u001b[39;49m\u001b[33;43m\"\"\"\u001b[39;49m\n\u001b[32m     10\u001b[39m \u001b[33;43mSELECT \u001b[39;49m\n\u001b[32m     11\u001b[39m \u001b[33;43m    job_title,\u001b[39;49m\n\u001b[32m     12\u001b[39m \u001b[33;43m    experience_level,\u001b[39;49m\n\u001b[32m     13\u001b[39m \u001b[33;43m    AVG(salary_in_usd) AS Mean_salary_usd,\u001b[39;49m\n\u001b[32m     14\u001b[39m \u001b[33;43m    MEDIAN(salary_in_usd) AS Median_salary_usd,\u001b[39;49m\n\u001b[32m     15\u001b[39m \u001b[33;43m    AVG(salary_in_usd) * \u001b[39;49m\u001b[38;5;132;43;01m{\u001b[39;49;00m\u001b[43mFX_USD_TO_SEK\u001b[49m\u001b[38;5;132;43;01m}\u001b[39;49;00m\u001b[33;43m AS Mean_salary_sek\u001b[39;49m\n\u001b[32m     16\u001b[39m \u001b[33;43mFROM df\u001b[39;49m\n\u001b[32m     17\u001b[39m \u001b[33;43mWHERE Mean_salary_usd IS NOT NULL\u001b[39;49m\n\u001b[32m     18\u001b[39m \u001b[33;43mGROUP BY\u001b[39;49m\n\u001b[32m     19\u001b[39m \u001b[33;43m    1, 2\u001b[39;49m\n\u001b[32m     20\u001b[39m \u001b[33;43mORDER BY\u001b[39;49m\n\u001b[32m     21\u001b[39m \u001b[33;43m    Mean_salary_sek DESC\u001b[39;49m\n\u001b[32m     22\u001b[39m \u001b[33;43m    \u001b[39;49m\u001b[33;43m\"\"\"\u001b[39;49m\n\u001b[32m     23\u001b[39m \n\u001b[32m     24\u001b[39m \u001b[43m)\u001b[49m.df()\n\u001b[32m     26\u001b[39m df_salary_data_jobs\n",
      "\u001b[31mBinderException\u001b[39m: Binder Error: WHERE clause cannot contain aggregates!"
     ]
    }
   ],
   "source": [
    "# need to find out median_salary_usd, mean_salary_usd, mean_salary_sek\n",
    "# also need to find the various currencies\n",
    "\n",
    "import duckdb\n",
    "\n",
    "FX_USD_TO_SEK = 10.5\n",
    "\n",
    "df_salary_data_jobs = duckdb.query(\n",
    "    f\"\"\"\n",
    "SELECT \n",
    "    job_title,\n",
    "    experience_level,\n",
    "    AVG(salary_in_usd) AS Mean_salary_usd,\n",
    "    MEDIAN(salary_in_usd) AS Median_salary_usd,\n",
    "    AVG(salary_in_usd) * {FX_USD_TO_SEK} AS Mean_salary_sek\n",
    "FROM df\n",
    "WHERE salary_in_usd IS NOT NULL\n",
    "GROUP BY\n",
    "    1, 2\n",
    "ORDER BY\n",
    "    Mean_salary_sek DESC\n",
    "    \"\"\"\n",
    "\n",
    ").df()\n",
    "\n",
    "df_salary_data_jobs"
   ]
  }
 ],
 "metadata": {
  "kernelspec": {
   "display_name": ".venv",
   "language": "python",
   "name": "python3"
  },
  "language_info": {
   "codemirror_mode": {
    "name": "ipython",
    "version": 3
   },
   "file_extension": ".py",
   "mimetype": "text/x-python",
   "name": "python",
   "nbconvert_exporter": "python",
   "pygments_lexer": "ipython3",
   "version": "3.12.9"
  }
 },
 "nbformat": 4,
 "nbformat_minor": 2
}
